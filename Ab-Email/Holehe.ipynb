{
  "nbformat": 4,
  "nbformat_minor": 0,
  "metadata": {
    "colab": {
      "name": "Holehe.ipynb",
      "provenance": [],
      "collapsed_sections": [],
      "authorship_tag": "ABX9TyOQubUSKFH/s+ZrAKZ4TdDX",
      "include_colab_link": true
    },
    "kernelspec": {
      "name": "python3",
      "display_name": "Python 3"
    },
    "language_info": {
      "name": "python"
    }
  },
  "cells": [
    {
      "cell_type": "markdown",
      "metadata": {
        "id": "view-in-github",
        "colab_type": "text"
      },
      "source": [
        "<a href=\"https://colab.research.google.com/github/BoszGTec/STOGC/blob/main/Ab-Email/Holehe.ipynb\" target=\"_parent\"><img src=\"https://colab.research.google.com/assets/colab-badge.svg\" alt=\"Open In Colab\"/></a>"
      ]
    },
    {
      "cell_type": "markdown",
      "source": [
        "# **Holehe**\n",
        "\n",
        "---\n",
        "\n",
        "Link : https://github.com/megadose/holehe"
      ],
      "metadata": {
        "id": "zqt6IXPwBoRW"
      }
    },
    {
      "cell_type": "code",
      "source": [
        "#@title ##<<Install Holehe\n",
        "%cd /content\n",
        "from IPython import display\n",
        "!pip install holehe\n",
        "!mkdir Result\n",
        "display.clear_output()"
      ],
      "metadata": {
        "cellView": "form",
        "id": "-GbiU4cdArOO"
      },
      "execution_count": null,
      "outputs": []
    },
    {
      "cell_type": "code",
      "source": [
        "#@title ##<<เช็คอีเมลว่าใช้กับเว็บไหนไปแล้วบ้าง\n",
        "\n",
        "import os\n",
        "from google.colab import files\n",
        "\n",
        "Email = \"@gmail.com\" #@param {type:\"string\"}\n",
        "Only_Used = True #@param {type:\"boolean\"}\n",
        "Csv_Result = True #@param {type:\"boolean\"}\n",
        "No_Color = False #@param {type:\"boolean\"}\n",
        "Download_Result =  False #@param {type:\"boolean\"}\n",
        "\n",
        "data_input=[ Only_Used , Csv_Result , No_Color ]\n",
        "data_mode=[\" --only-used\", \" --csv\" , \" --no-color \"]\n",
        "data=\"\"\n",
        "\n",
        "for i,ii in enumerate(data_input) :\n",
        " if i :\n",
        "   data+=data_mode[ii]\n",
        "\n",
        "%cd /content/Result\n",
        "!holehe $Email $data\n",
        "\n",
        "\n",
        "if Download_Result :\n",
        "  result=os.listdir()\n",
        "  for i in result :\n",
        "    if \".csv\" in i :\n",
        "      files.download(i)\n",
        "\n",
        "%cd /content"
      ],
      "metadata": {
        "cellView": "form",
        "id": "XdrCJ0ZF8gJQ"
      },
      "execution_count": null,
      "outputs": []
    }
  ]
}
