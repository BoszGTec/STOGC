{
  "nbformat": 4,
  "nbformat_minor": 0,
  "metadata": {
    "colab": {
      "name": "Loki.ipynb",
      "provenance": [],
      "collapsed_sections": [],
      "authorship_tag": "ABX9TyPX4SKvRjJyz+vPe+pn44hy",
      "include_colab_link": true
    },
    "kernelspec": {
      "name": "python3",
      "display_name": "Python 3"
    },
    "language_info": {
      "name": "python"
    }
  },
  "cells": [
    {
      "cell_type": "markdown",
      "metadata": {
        "id": "view-in-github",
        "colab_type": "text"
      },
      "source": [
        "<a href=\"https://colab.research.google.com/github/BoszGTec/STOGC/blob/main/Ab-Antivirus/Loki.ipynb\" target=\"_parent\"><img src=\"https://colab.research.google.com/assets/colab-badge.svg\" alt=\"Open In Colab\"/></a>"
      ]
    },
    {
      "cell_type": "markdown",
      "source": [
        "# **Loki**\n",
        "\n",
        "---\n",
        "\n",
        "Link : https://github.com/Neo23x0/Loki"
      ],
      "metadata": {
        "id": "zqt6IXPwBoRW"
      }
    },
    {
      "cell_type": "code",
      "source": [
        "#@title ##<<Install Loki\n",
        "%cd /content\n",
        "from IPython import display\n",
        "import time\n",
        "!git clone https://github.com/Neo23x0/Loki.git\n",
        "!pip install -r \"/content/Loki/requirements.txt\" \n",
        "\n",
        "display.clear_output()\n",
        "\n",
        "time.sleep(3)\n",
        "!cd \"/content/Loki\" && python loki.py --update  \n",
        "time.sleep(3)\n",
        "\n",
        "display.clear_output()"
      ],
      "metadata": {
        "cellView": "form",
        "id": "-GbiU4cdArOO"
      },
      "execution_count": 25,
      "outputs": []
    },
    {
      "cell_type": "code",
      "source": [
        "#@title ##<<Upload Your File\n",
        "%cd /content\n",
        "!mkdir upload\n",
        "from IPython import display\n",
        "from google.colab import files\n",
        "\n",
        "%cd upload\n",
        "\n",
        "uploaded = files.upload()\n",
        "\n",
        "display.clear_output()"
      ],
      "metadata": {
        "cellView": "form",
        "id": "Um1RGn4xHJIA"
      },
      "execution_count": 9,
      "outputs": []
    },
    {
      "cell_type": "code",
      "source": [
        "#@title ##<<Start KicomAV\n",
        "%cd /content\n",
        "import os\n",
        "\n",
        "path = \"/content/upload\" #@param {type:\"string\"}\n",
        "\n",
        "\n",
        "#@markdown Print all files that are scanned :\n",
        "printall = False #@param {type:\"boolean\"}\n",
        "\n",
        "#@markdown Print all reasons that caused the score :\n",
        "allreasons = True #@param {type:\"boolean\"} \n",
        "\n",
        "#@markdown Do not show a progress indicator\n",
        "vulnchecks = False #@param {type:\"boolean\"}\n",
        "\n",
        "#@markdown Intense scan mode (also scan unknown file types and all extensions)\n",
        "intense = True #@param {type:\"boolean\"} \n",
        "\n",
        "Write_CSV_log_format = False \n",
        "\n",
        "#@markdown Force the scan on a certain folder\n",
        "force = True #@param {type:\"boolean\"} \n",
        "\n",
        "data_var=[\n",
        "          printall,\n",
        "          allreasons,\n",
        "          vulnchecks,\n",
        "          intense,\n",
        "          Write_CSV_log_format,\n",
        "          force \n",
        "          ]\n",
        "data=[ ' --printall' ,' --allreasons' , ' --vulnchecks' , ' --intense' , ' --csv','   --force']\n",
        "options=\"\"\n",
        "\n",
        "\n",
        "for i,ii in enumerate(data_var) :\n",
        "  if ii :\n",
        "    options+=data[i]\n",
        "    \n",
        "\n",
        "%cd /content/Loki\n",
        "!python loki.py -p $path $options "
      ],
      "metadata": {
        "colab": {
          "base_uri": "https://localhost:8080/"
        },
        "cellView": "form",
        "id": "XdrCJ0ZF8gJQ",
        "outputId": "8e8d4dc8-7e3c-408e-f3b5-c47ec5bdc3f5"
      },
      "execution_count": 54,
      "outputs": [
        {
          "output_type": "stream",
          "name": "stdout",
          "text": [
            "/content\n",
            "/content/Loki\n",
            "\u001b[47m\n",
            "                                                                               \u001b[40m\u001b[1m\n",
            "      __   ____  __ ______  \n",
            "     / /  / __ \\/ //_/  _/  \n",
            "    / /__/ /_/ / ,< _/ /    \n",
            "   /____/\\____/_/|_/___/    \n",
            "   YARA and IOC Scanner     \n",
            "  \n",
            "   by Florian Roth, GNU General Public License\n",
            "   version 0.44.2 (Python 3 release)\n",
            "  \n",
            "   DISCLAIMER - USE AT YOUR OWN RISK\n",
            "\u001b[47m\n",
            "                                                                               \u001b[40m\u001b[32m\n",
            "\u001b[37m\u001b[40m\n",
            "\u001b[22m\u001b[39m\u001b[36m\u001b[40m\b\b\u001b[30m\u001b[46m[NOTICE]\u001b[36m\u001b[40m Starting Loki Scan \u001b[37m\u001b[1mVERSION: \u001b[36m\u001b[40m\u001b[22m0.44.2 \u001b[37m\u001b[1mSYSTEM: \u001b[36m\u001b[40m\u001b[22m3d4f4809a40a \u001b[37m\u001b[1mTIME: \u001b[36m\u001b[40m\u001b[22m20220113T12:24:50Z \u001b[37m\u001b[1mPLATFORM: \u001b[36m\u001b[40m\u001b[22m    \u001b[37m\u001b[1mPROC: \u001b[36m\u001b[40m\u001b[22mx86_64 \u001b[37m\u001b[1mARCH: \u001b[36m\u001b[40m\u001b[22m64bit \u001b[40m\u001b[37m\u001b[22m\n",
            "\u001b[22m\u001b[39m\u001b[32m\u001b[40m\b\b\u001b[30m\u001b[42m[INFO]\u001b[32m\u001b[40m File Name Characteristics initialized with 3276 regex patterns\u001b[40m\u001b[37m\u001b[22m\n",
            "\u001b[22m\u001b[39m\u001b[32m\u001b[40m\b\b\u001b[30m\u001b[42m[INFO]\u001b[32m\u001b[40m C2 server indicators initialized with 1636 elements\u001b[40m\u001b[37m\u001b[22m\n",
            "\u001b[22m\u001b[39m\u001b[32m\u001b[40m\b\b\u001b[30m\u001b[42m[INFO]\u001b[32m\u001b[40m Malicious MD5 Hashes initialized with 19195 hashes\u001b[40m\u001b[37m\u001b[22m\n",
            "\u001b[22m\u001b[39m\u001b[32m\u001b[40m\b\b\u001b[30m\u001b[42m[INFO]\u001b[32m\u001b[40m Malicious SHA1 Hashes initialized with 7204 hashes\u001b[40m\u001b[37m\u001b[22m\n",
            "\u001b[22m\u001b[39m\u001b[32m\u001b[40m\b\b\u001b[30m\u001b[42m[INFO]\u001b[32m\u001b[40m Malicious SHA256 Hashes initialized with 23247 hashes\u001b[40m\u001b[37m\u001b[22m\n",
            "\u001b[22m\u001b[39m\u001b[32m\u001b[40m\b\b\u001b[30m\u001b[42m[INFO]\u001b[32m\u001b[40m False Positive Hashes initialized with 30 hashes\u001b[40m\u001b[37m\u001b[22m\n",
            "\u001b[22m\u001b[39m\u001b[32m\u001b[40m\b\b\u001b[30m\u001b[42m[INFO]\u001b[32m\u001b[40m Processing YARA rules folder /content/Loki/signature-base/yara\u001b[40m\u001b[37m\u001b[22m\n",
            "\u001b[22m\u001b[39m\u001b[32m\u001b[40m\b\b\u001b[30m\u001b[42m[INFO]\u001b[32m\u001b[40m Initializing all YARA rules at once (composed string of all rule files)\u001b[40m\u001b[37m\u001b[22m\n",
            "\u001b[22m\u001b[39m\u001b[32m\u001b[40m\b\b\u001b[30m\u001b[42m[INFO]\u001b[32m\u001b[40m Initialized 793 Yara rules\u001b[40m\u001b[37m\u001b[22m\n",
            "\u001b[22m\u001b[39m\u001b[32m\u001b[40m\b\b\u001b[30m\u001b[42m[INFO]\u001b[32m\u001b[40m Current user is root - very good\u001b[40m\u001b[37m\u001b[22m\n",
            "\u001b[22m\u001b[39m\u001b[32m\u001b[40m\b\b\u001b[30m\u001b[42m[INFO]\u001b[32m\u001b[40m Scanning Path /content/upload ...  \u001b[40m\u001b[37m\u001b[22m\n",
            "\b-\u001b[22m\u001b[39m\u001b[36m\u001b[40m\b\b\u001b[30m\u001b[46m[NOTICE]\u001b[36m\u001b[40m \n",
            "\u001b[37m\u001b[1mFILE: \u001b[36m\u001b[40m\u001b[22m/content/upload/eicar.com \u001b[37m\u001b[1mSCORE: \u001b[36m\u001b[40m\u001b[22m40 \u001b[37m\u001b[1mTYPE: \u001b[36m\u001b[40m\u001b[22mUNKNOWN \u001b[37m\u001b[1mSIZE: \u001b[36m\u001b[40m\u001b[22m68 \n",
            "\u001b[37m\u001b[1mFIRST_BYTES: \u001b[36m\u001b[40m\u001b[22m58354f2150254041505b345c505a58353428505e / <filter object at 0x7f24b8d08650> \n",
            "\u001b[37m\u001b[1mMD5: \u001b[36m\u001b[40m\u001b[22m44d88612fea8a8f36de82e1278abb02f \n",
            "\u001b[37m\u001b[1mSHA1: \u001b[36m\u001b[40m\u001b[22m3395856ce81f2b7382dee72602f798b642f14140 \n",
            "\u001b[37m\u001b[1mSHA256: \u001b[36m\u001b[40m\u001b[22m275a021bbfb6489e54d471899f7db9d1663fc695ec2fe2a2c4538aabf651fd0f \u001b[37m\u001b[1mCREATED: \u001b[36m\u001b[40m\u001b[22mThu Jan 13 11:27:35 2022 \u001b[37m\u001b[1mMODIFIED: \u001b[36m\u001b[40m\u001b[22mWed May 24 19:07:00 2000 \u001b[37m\u001b[1mACCESSED: \u001b[36m\u001b[40m\u001b[22mThu Jan 13 11:27:45 2022 \n",
            "\u001b[37m\u001b[1mREASON_1: \u001b[36m\u001b[40m\u001b[22mYara Rule \u001b[37m\u001b[1mMATCH: \u001b[36m\u001b[40m\u001b[22mSUSP_Just_EICAR \u001b[37m\u001b[1mSUBSCORE: \u001b[36m\u001b[40m\u001b[22m40 \n",
            "\u001b[37m\u001b[1mDESCRIPTION: \u001b[36m\u001b[40m\u001b[22mJust an EICAR test file - this is boring but users asked for it \u001b[37m\u001b[1mREF: \u001b[36m\u001b[40m\u001b[22mhttp://2016.eicar.org/85-0-Download.html \u001b[37m\u001b[1mAUTHOR: \u001b[36m\u001b[40m\u001b[22mFlorian Roth \n",
            "\u001b[37m\u001b[1mMATCHES: \u001b[36m\u001b[40m\u001b[22mStr1: X5O!P%@AP[4\\PZX54(P^)7CC)7}$EICAR-STANDARD-ANTIVIRUS-TEST-FILE!$H+H*\u001b[40m\u001b[37m\u001b[22m\n",
            "\b\\\b|\u001b[22m\u001b[39m\u001b[36m\u001b[40m\b\b\u001b[30m\u001b[46m[NOTICE]\u001b[36m\u001b[40m Results: 0 alerts, 0 warnings, 2 notices\u001b[40m\u001b[37m\u001b[22m\n",
            "\u001b[22m\u001b[39m\u001b[32m\u001b[40m\b\b\u001b[30m\u001b[42m[RESULT]\u001b[32m\u001b[40m SYSTEM SEEMS TO BE CLEAN.\u001b[40m\u001b[37m\u001b[22m\n",
            "\u001b[22m\u001b[39m\u001b[32m\u001b[40m\b\b\u001b[30m\u001b[42m[INFO]\u001b[32m\u001b[40m Please report false positives via https://github.com/Neo23x0/signature-base\u001b[40m\u001b[37m\u001b[22m\n",
            "\u001b[22m\u001b[39m\u001b[36m\u001b[40m\b\b\u001b[30m\u001b[46m[NOTICE]\u001b[36m\u001b[40m Finished LOKI Scan \u001b[37m\u001b[1mSYSTEM: \u001b[36m\u001b[40m\u001b[22m3d4f4809a40a \u001b[37m\u001b[1mTIME: \u001b[36m\u001b[40m\u001b[22m20220113T12:24:53Z\u001b[40m\u001b[37m\u001b[22m\n",
            "\u001b[0m"
          ]
        }
      ]
    },
    {
      "cell_type": "code",
      "source": [
        "#@title ##<font color=\"red\"><<Infected File For Test !!<font>\n",
        "%cd /content/upload\n",
        "!wget https://secure.eicar.org/eicar_com.zip\n",
        "!unzip /content/upload/eicar_com.zip"
      ],
      "metadata": {
        "colab": {
          "base_uri": "https://localhost:8080/"
        },
        "cellView": "form",
        "id": "gJpT7VNZL1LY",
        "outputId": "c5a713fc-d18e-429c-bc59-4d16115216f3"
      },
      "execution_count": 20,
      "outputs": [
        {
          "output_type": "stream",
          "name": "stdout",
          "text": [
            "/content/upload\n",
            "--2022-01-13 11:27:34--  https://secure.eicar.org/eicar_com.zip\n",
            "Resolving secure.eicar.org (secure.eicar.org)... 89.238.73.97, 2a00:1828:1000:2497::2\n",
            "Connecting to secure.eicar.org (secure.eicar.org)|89.238.73.97|:443... connected.\n",
            "HTTP request sent, awaiting response... 200 OK\n",
            "Length: 184 [application/zip]\n",
            "Saving to: ‘eicar_com.zip’\n",
            "\n",
            "eicar_com.zip       100%[===================>]     184  --.-KB/s    in 0s      \n",
            "\n",
            "2022-01-13 11:27:35 (46.7 MB/s) - ‘eicar_com.zip’ saved [184/184]\n",
            "\n",
            "Archive:  /content/upload/eicar_com.zip\n",
            " extracting: eicar.com               \n"
          ]
        }
      ]
    }
  ]
}