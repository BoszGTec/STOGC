{
  "nbformat": 4,
  "nbformat_minor": 0,
  "metadata": {
    "colab": {
      "name": "KicomAV.ipynb",
      "provenance": [],
      "collapsed_sections": [],
      "include_colab_link": true
    },
    "kernelspec": {
      "name": "python3",
      "display_name": "Python 3"
    },
    "language_info": {
      "name": "python"
    }
  },
  "cells": [
    {
      "cell_type": "markdown",
      "metadata": {
        "id": "view-in-github",
        "colab_type": "text"
      },
      "source": [
        "<a href=\"https://colab.research.google.com/github/BoszGTec/STOGC/blob/main/Ab-Antivirus/KicomAV.ipynb\" target=\"_parent\"><img src=\"https://colab.research.google.com/assets/colab-badge.svg\" alt=\"Open In Colab\"/></a>"
      ]
    },
    {
      "cell_type": "markdown",
      "source": [
        "# **KicomAV**\n",
        "\n",
        "---\n",
        "\n",
        "Link : https://github.com/hanul93/kicomav"
      ],
      "metadata": {
        "id": "zqt6IXPwBoRW"
      }
    },
    {
      "cell_type": "code",
      "source": [
        "#@title ##<<Install KicomAV\n",
        "%cd /content\n",
        "!mkdir upload\n",
        "\n",
        "%cd /content\n",
        "from IPython import display\n",
        "import time\n",
        "!git clone https://github.com/hanul93/kicomav.git\n",
        "\n",
        "%cd /content/kicomav/\n",
        "!bash build.sh build\n",
        "\n",
        "display.clear_output()\n",
        "\n",
        "%cd /content/kicomav/Release\n",
        "time.sleep(3)\n",
        "!python2 k2.py --update\n",
        "time.sleep(3)\n",
        "\n",
        "display.clear_output()"
      ],
      "metadata": {
        "cellView": "form",
        "id": "-GbiU4cdArOO"
      },
      "execution_count": 1,
      "outputs": []
    },
    {
      "cell_type": "code",
      "source": [
        "#@title ##<<Upload Your File\n",
        "from IPython import display\n",
        "from google.colab import files\n",
        "\n",
        "%cd upload\n",
        "\n",
        "uploaded = files.upload()\n",
        "\n",
        "display.clear_output()"
      ],
      "metadata": {
        "cellView": "form",
        "id": "Um1RGn4xHJIA"
      },
      "execution_count": 8,
      "outputs": []
    },
    {
      "cell_type": "code",
      "source": [
        "#@title ##<<Start KicomAV\n",
        "%cd /content\n",
        "import os\n",
        "\n",
        "path = \"/content/upload\" #@param {type:\"string\"}\n",
        "\n",
        "scan_files = True #@param {type:\"boolean\"}\n",
        "scan_archives = False #@param {type:\"boolean\"}\n",
        "create_log_file = True #@param {type:\"boolean\"}\n",
        "display_all_files = False #@param {type:\"boolean\"}\n",
        "display_virus_list = False #@param {type:\"boolean\"}\n",
        "delete_infected_files = True #@param {type:\"boolean\"} \n",
        "\n",
        "data_var=[\n",
        "          scan_files,\n",
        "          scan_archives,\n",
        "          create_log_file,\n",
        "          display_all_files,\n",
        "          display_virus_list,\n",
        "          delete_infected_files\n",
        "          ]\n",
        "data=[' -f' , ' -r' , ' -G' , ' -I' ,' -V' , ' --del' ]\n",
        "options=\"\"\n",
        "\n",
        "for i,ii in enumerate(data_var) :\n",
        "  if ii :\n",
        "    options+=data[i]\n",
        "\n",
        "\n",
        "%cd /content/kicomav/Release\n",
        "!python2 k2.py $path $options"
      ],
      "metadata": {
        "colab": {
          "base_uri": "https://localhost:8080/"
        },
        "cellView": "form",
        "id": "XdrCJ0ZF8gJQ",
        "outputId": "7bfbe45b-fd4b-41b9-c40e-9f108b558cb3"
      },
      "execution_count": 11,
      "outputs": [
        {
          "output_type": "stream",
          "name": "stdout",
          "text": [
            "/content\n",
            "/content/kicomav/Release\n",
            "------------------------------------------------------------\n",
            "\u001b[0;96mKICOM Anti-Virus II (for LINUX2) Ver 0.33 (Mar 17 2020)\n",
            "Copyright (C) 1995-2020 Kei Choi. All rights reserved.\n",
            "\u001b[0m------------------------------------------------------------\n",
            "Last updated Mon Mar  8 00:33:30 2021 UTC\n",
            "\u001b[0m\u001b[0;37mSignature number: 2,375\n",
            "\n",
            "\u001b[0m\u001b[0;37mc ...  \u001b[0m\u001b[0;91minfected : EICAR-Test-File (not a virus)\n",
            "\u001b[0m\u001b[0;37mcontent/upload/eic ...  \u001b[0m\u001b[0;92mdeleted\n",
            "\u001b[0m\n",
            "\n",
            "\u001b[0;97mResults:\n",
            "\u001b[0m\u001b[0;97mFolders           :1\n",
            "\u001b[0m\u001b[0;97mFiles             :3\n",
            "\u001b[0m\u001b[0;97mPacked            :0\n",
            "\u001b[0m\u001b[0;97mInfected files    :1\n",
            "\u001b[0m\u001b[0;97mSuspect files     :0\n",
            "\u001b[0m\u001b[0;97mWarnings          :0\n",
            "\u001b[0m\u001b[0;97mIdentified viruses:1\n",
            "\u001b[0m\u001b[0;97mDeleted files     :1\n",
            "\u001b[0m\u001b[0;97mI/O errors        :0\n",
            "\u001b[0m\u001b[0;97mScan time         :00:00:00\n",
            "\u001b[0m\n"
          ]
        }
      ]
    },
    {
      "cell_type": "code",
      "source": [
        "#@title ##<font color=\"red\"><<Infected File For Test !!<font>\n",
        "%cd /content/upload\n",
        "!wget https://secure.eicar.org/eicar_com.zip\n",
        "!unzip /content/upload/eicar_com.zip"
      ],
      "metadata": {
        "cellView": "form",
        "id": "gJpT7VNZL1LY"
      },
      "execution_count": 10,
      "outputs": []
    }
  ]
}