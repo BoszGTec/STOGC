{
  "nbformat": 4,
  "nbformat_minor": 0,
  "metadata": {
    "colab": {
      "name": "Nexphisher.ipynb",
      "provenance": [],
      "collapsed_sections": [],
      "authorship_tag": "ABX9TyOkOhqmCk8OE/mfocPYDOOe",
      "include_colab_link": true
    },
    "kernelspec": {
      "name": "python3",
      "display_name": "Python 3"
    },
    "language_info": {
      "name": "python"
    }
  },
  "cells": [
    {
      "cell_type": "markdown",
      "metadata": {
        "id": "view-in-github",
        "colab_type": "text"
      },
      "source": [
        "<a href=\"https://colab.research.google.com/github/BoszGTec/STOGC/blob/main/Ab-Web/Nexphisher.ipynb\" target=\"_parent\"><img src=\"https://colab.research.google.com/assets/colab-badge.svg\" alt=\"Open In Colab\"/></a>"
      ]
    },
    {
      "cell_type": "markdown",
      "source": [
        "# **Nexphisher**\n",
        "\n",
        "---\n",
        "\n",
        "Link : https://github.com/htr-tech/nexphisher"
      ],
      "metadata": {
        "id": "zqt6IXPwBoRW"
      }
    },
    {
      "cell_type": "code",
      "source": [
        "#@title ##<<Install Nexphisher\n",
        "%cd /content\n",
        "from IPython import display\n",
        "!apt update\n",
        "!apt install git -y\n",
        "!git clone git://github.com/htr-tech/nexphisher.git\n",
        "%cd nexphisher\n",
        "!bash setup\n",
        "\n",
        "display.clear_output()"
      ],
      "metadata": {
        "cellView": "form",
        "id": "-GbiU4cdArOO"
      },
      "execution_count": null,
      "outputs": []
    },
    {
      "cell_type": "code",
      "source": [
        "#@title ##<<Start Nexphisher\n",
        "%cd nexphisher\n",
        "!bash nexphisher"
      ],
      "metadata": {
        "cellView": "form",
        "id": "XdrCJ0ZF8gJQ"
      },
      "execution_count": null,
      "outputs": []
    }
  ]
}