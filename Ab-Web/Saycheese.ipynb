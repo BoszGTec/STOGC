{
  "nbformat": 4,
  "nbformat_minor": 0,
  "metadata": {
    "colab": {
      "name": "Saycheese.ipynb",
      "provenance": [],
      "collapsed_sections": [],
      "authorship_tag": "ABX9TyOR93E9VyfLYgBLIG9gE8qo",
      "include_colab_link": true
    },
    "kernelspec": {
      "name": "python3",
      "display_name": "Python 3"
    },
    "language_info": {
      "name": "python"
    }
  },
  "cells": [
    {
      "cell_type": "markdown",
      "metadata": {
        "id": "view-in-github",
        "colab_type": "text"
      },
      "source": [
        "<a href=\"https://colab.research.google.com/github/BoszGTec/STOGC/blob/main/Ab-Web/Saycheese.ipynb\" target=\"_parent\"><img src=\"https://colab.research.google.com/assets/colab-badge.svg\" alt=\"Open In Colab\"/></a>"
      ]
    },
    {
      "cell_type": "markdown",
      "source": [
        "# **Saycheese**\n",
        "\n",
        "---\n",
        "\n",
        "Link : https://github.com/hangetzzu/saycheese"
      ],
      "metadata": {
        "id": "zqt6IXPwBoRW"
      }
    },
    {
      "cell_type": "code",
      "source": [
        "#@title ##<< Saycheese\n",
        "%cd /content\n",
        "from IPython import display\n",
        "!git clone https://github.com/hangetzzu/saycheese.git\n",
        "!apt-get install php\n",
        "!pip install pyngrok\n",
        "%cd saycheese\n",
        "\n",
        "display.clear_output()"
      ],
      "metadata": {
        "cellView": "form",
        "id": "-GbiU4cdArOO"
      },
      "execution_count": 3,
      "outputs": []
    },
    {
      "cell_type": "code",
      "source": [
        "#@title <<Set ngrok token\n",
        "from pyngrok import ngrok\n",
        "#@markdown Get From : https://ngrok.com/\n",
        "Auth = \"\" #@param {type:\"string\"}\n",
        "\n",
        "ngrok.set_auth_token(Auth)\n",
        "ngrok.connect(3333)"
      ],
      "metadata": {
        "cellView": "form",
        "id": "-1QBbcq0kCmL"
      },
      "execution_count": null,
      "outputs": []
    },
    {
      "cell_type": "code",
      "source": [
        "#@title ##<<Saycheese\n",
        "#@markdown Choose [01] Serveo.net only\n",
        "%cd /content\n",
        "%cd saycheese\n",
        "!bash saycheese.sh"
      ],
      "metadata": {
        "cellView": "form",
        "id": "XdrCJ0ZF8gJQ"
      },
      "execution_count": null,
      "outputs": []
    }
  ]
}
